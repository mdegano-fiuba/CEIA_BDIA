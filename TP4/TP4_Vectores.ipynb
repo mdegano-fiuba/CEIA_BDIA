{
 "cells": [
  {
   "cell_type": "markdown",
   "id": "100fd86e-18e5-46a8-9f32-c17323775b6c",
   "metadata": {},
   "source": [
    "# Trabajo Práctico Nro. 4 - Vectores"
   ]
  },
  {
   "cell_type": "markdown",
   "id": "5b8c13ce-3722-4d1b-9450-db99bf88b3d6",
   "metadata": {},
   "source": [
    "CEIA - Bases de datos para inteligencia artificial.  \n",
    "Myrna Degano (a1618)"
   ]
  },
  {
   "cell_type": "markdown",
   "id": "a98d53a7-55d4-443b-b292-1642582b084b",
   "metadata": {},
   "source": [
    "## Set up"
   ]
  },
  {
   "cell_type": "code",
   "execution_count": 123,
   "id": "747b0282-0fbf-4911-8d3d-b2f9f3fc4699",
   "metadata": {},
   "outputs": [],
   "source": [
    "# Importar librerías\n",
    "from sentence_transformers import SentenceTransformer\n",
    "import chromadb\n",
    "from chromadb.config import Settings\n",
    "import os\n",
    "import numpy as np\n",
    "import uuid\n"
   ]
  },
  {
   "cell_type": "markdown",
   "id": "608fea2f-824d-4328-9ddb-efc0c856dfc0",
   "metadata": {},
   "source": [
    "### Modelo de embeddings"
   ]
  },
  {
   "cell_type": "code",
   "execution_count": 124,
   "id": "f1318f48-27df-4e64-a69c-296e6634094d",
   "metadata": {},
   "outputs": [
    {
     "data": {
      "application/vnd.jupyter.widget-view+json": {
       "model_id": "3119ee467d5f4ce69d1d6eb1ece96068",
       "version_major": 2,
       "version_minor": 0
      },
      "text/plain": [
       "Downloading .gitattributes:   0%|          | 0.00/1.23k [00:00<?, ?B/s]"
      ]
     },
     "metadata": {},
     "output_type": "display_data"
    },
    {
     "data": {
      "application/vnd.jupyter.widget-view+json": {
       "model_id": "671aa35c35cb4aa694b4d35fcd6aebfa",
       "version_major": 2,
       "version_minor": 0
      },
      "text/plain": [
       "Downloading config.json:   0%|          | 0.00/190 [00:00<?, ?B/s]"
      ]
     },
     "metadata": {},
     "output_type": "display_data"
    },
    {
     "data": {
      "application/vnd.jupyter.widget-view+json": {
       "model_id": "b1c797f7d2764aa0bde3c14bbbb4d9c8",
       "version_major": 2,
       "version_minor": 0
      },
      "text/plain": [
       "Downloading README.md:   0%|          | 0.00/10.5k [00:00<?, ?B/s]"
      ]
     },
     "metadata": {},
     "output_type": "display_data"
    },
    {
     "data": {
      "application/vnd.jupyter.widget-view+json": {
       "model_id": "788889fb631e4ec1ab236ea96001f2a5",
       "version_major": 2,
       "version_minor": 0
      },
      "text/plain": [
       "Downloading config.json:   0%|          | 0.00/612 [00:00<?, ?B/s]"
      ]
     },
     "metadata": {},
     "output_type": "display_data"
    },
    {
     "data": {
      "application/vnd.jupyter.widget-view+json": {
       "model_id": "237c41d92a9348fbada2f42f24a50572",
       "version_major": 2,
       "version_minor": 0
      },
      "text/plain": [
       "Downloading (…)ce_transformers.json:   0%|          | 0.00/116 [00:00<?, ?B/s]"
      ]
     },
     "metadata": {},
     "output_type": "display_data"
    },
    {
     "data": {
      "application/vnd.jupyter.widget-view+json": {
       "model_id": "258ed2c4baf4456c80cd4695945f9418",
       "version_major": 2,
       "version_minor": 0
      },
      "text/plain": [
       "Downloading data_config.json:   0%|          | 0.00/39.3k [00:00<?, ?B/s]"
      ]
     },
     "metadata": {},
     "output_type": "display_data"
    },
    {
     "data": {
      "application/vnd.jupyter.widget-view+json": {
       "model_id": "91e5c6591eba4787a180e453118612d9",
       "version_major": 2,
       "version_minor": 0
      },
      "text/plain": [
       "Downloading model.safetensors:   0%|          | 0.00/90.9M [00:00<?, ?B/s]"
      ]
     },
     "metadata": {},
     "output_type": "display_data"
    },
    {
     "data": {
      "application/vnd.jupyter.widget-view+json": {
       "model_id": "f4c52fff9cc94537af4ff010da8b709f",
       "version_major": 2,
       "version_minor": 0
      },
      "text/plain": [
       "Downloading model.onnx:   0%|          | 0.00/90.4M [00:00<?, ?B/s]"
      ]
     },
     "metadata": {},
     "output_type": "display_data"
    },
    {
     "data": {
      "application/vnd.jupyter.widget-view+json": {
       "model_id": "f19bf30853064f1183fd1942846ccced",
       "version_major": 2,
       "version_minor": 0
      },
      "text/plain": [
       "Downloading model_O1.onnx:   0%|          | 0.00/90.4M [00:00<?, ?B/s]"
      ]
     },
     "metadata": {},
     "output_type": "display_data"
    },
    {
     "data": {
      "application/vnd.jupyter.widget-view+json": {
       "model_id": "680c7086838444e8b85d55a796aae561",
       "version_major": 2,
       "version_minor": 0
      },
      "text/plain": [
       "Downloading model_O2.onnx:   0%|          | 0.00/90.3M [00:00<?, ?B/s]"
      ]
     },
     "metadata": {},
     "output_type": "display_data"
    },
    {
     "data": {
      "application/vnd.jupyter.widget-view+json": {
       "model_id": "407a62a5a7be4b958cca78a28793b697",
       "version_major": 2,
       "version_minor": 0
      },
      "text/plain": [
       "Downloading model_O3.onnx:   0%|          | 0.00/90.3M [00:00<?, ?B/s]"
      ]
     },
     "metadata": {},
     "output_type": "display_data"
    },
    {
     "data": {
      "application/vnd.jupyter.widget-view+json": {
       "model_id": "9c23b4cbde4b4c99834dcfbae95fff07",
       "version_major": 2,
       "version_minor": 0
      },
      "text/plain": [
       "Downloading model_O4.onnx:   0%|          | 0.00/45.2M [00:00<?, ?B/s]"
      ]
     },
     "metadata": {},
     "output_type": "display_data"
    },
    {
     "data": {
      "application/vnd.jupyter.widget-view+json": {
       "model_id": "09f196cceae94234a83975df7e1d9aa6",
       "version_major": 2,
       "version_minor": 0
      },
      "text/plain": [
       "Downloading model_qint8_arm64.onnx:   0%|          | 0.00/23.0M [00:00<?, ?B/s]"
      ]
     },
     "metadata": {},
     "output_type": "display_data"
    },
    {
     "data": {
      "application/vnd.jupyter.widget-view+json": {
       "model_id": "edfc160d3ade4e9dbd270bcd932a64a4",
       "version_major": 2,
       "version_minor": 0
      },
      "text/plain": [
       "Downloading model_qint8_arm64.onnx:   0%|          | 0.00/23.0M [00:00<?, ?B/s]"
      ]
     },
     "metadata": {},
     "output_type": "display_data"
    },
    {
     "data": {
      "application/vnd.jupyter.widget-view+json": {
       "model_id": "88a9f227508d466c9beae3caaf719bf2",
       "version_major": 2,
       "version_minor": 0
      },
      "text/plain": [
       "Downloading model_qint8_arm64.onnx:   0%|          | 0.00/23.0M [00:00<?, ?B/s]"
      ]
     },
     "metadata": {},
     "output_type": "display_data"
    },
    {
     "data": {
      "application/vnd.jupyter.widget-view+json": {
       "model_id": "7b296fe5b27a4f6fa44f1cf06c123536",
       "version_major": 2,
       "version_minor": 0
      },
      "text/plain": [
       "Downloading model_quint8_avx2.onnx:   0%|          | 0.00/23.0M [00:00<?, ?B/s]"
      ]
     },
     "metadata": {},
     "output_type": "display_data"
    },
    {
     "data": {
      "application/vnd.jupyter.widget-view+json": {
       "model_id": "2b54c6d94975491c80f3c65ab1a4d009",
       "version_major": 2,
       "version_minor": 0
      },
      "text/plain": [
       "Downloading openvino_model.bin:   0%|          | 0.00/90.3M [00:00<?, ?B/s]"
      ]
     },
     "metadata": {},
     "output_type": "display_data"
    },
    {
     "data": {
      "application/vnd.jupyter.widget-view+json": {
       "model_id": "f6bc82456c564e4d8184d0f853a12b76",
       "version_major": 2,
       "version_minor": 0
      },
      "text/plain": [
       "Downloading openvino_model.xml:   0%|          | 0.00/211k [00:00<?, ?B/s]"
      ]
     },
     "metadata": {},
     "output_type": "display_data"
    },
    {
     "data": {
      "application/vnd.jupyter.widget-view+json": {
       "model_id": "6b6934ba141f4a9582232435d52bdc4b",
       "version_major": 2,
       "version_minor": 0
      },
      "text/plain": [
       "Downloading (…)_qint8_quantized.bin:   0%|          | 0.00/22.9M [00:00<?, ?B/s]"
      ]
     },
     "metadata": {},
     "output_type": "display_data"
    },
    {
     "data": {
      "application/vnd.jupyter.widget-view+json": {
       "model_id": "25a51f251e5c4cc5bf1dba3897eff93f",
       "version_major": 2,
       "version_minor": 0
      },
      "text/plain": [
       "Downloading (…)_qint8_quantized.xml:   0%|          | 0.00/368k [00:00<?, ?B/s]"
      ]
     },
     "metadata": {},
     "output_type": "display_data"
    },
    {
     "data": {
      "application/vnd.jupyter.widget-view+json": {
       "model_id": "b9475c85685946f29b1bc8310d43b1f4",
       "version_major": 2,
       "version_minor": 0
      },
      "text/plain": [
       "Downloading pytorch_model.bin:   0%|          | 0.00/90.9M [00:00<?, ?B/s]"
      ]
     },
     "metadata": {},
     "output_type": "display_data"
    },
    {
     "data": {
      "application/vnd.jupyter.widget-view+json": {
       "model_id": "d47f2f5cc6334f7e8e4c1ae9981168a6",
       "version_major": 2,
       "version_minor": 0
      },
      "text/plain": [
       "Downloading (…)nce_bert_config.json:   0%|          | 0.00/53.0 [00:00<?, ?B/s]"
      ]
     },
     "metadata": {},
     "output_type": "display_data"
    },
    {
     "data": {
      "application/vnd.jupyter.widget-view+json": {
       "model_id": "b8bca36dd5b5458383e10d1792ed84e7",
       "version_major": 2,
       "version_minor": 0
      },
      "text/plain": [
       "Downloading (…)cial_tokens_map.json:   0%|          | 0.00/112 [00:00<?, ?B/s]"
      ]
     },
     "metadata": {},
     "output_type": "display_data"
    },
    {
     "data": {
      "application/vnd.jupyter.widget-view+json": {
       "model_id": "7ad7867ed1204ea597626ef15c27d09e",
       "version_major": 2,
       "version_minor": 0
      },
      "text/plain": [
       "Downloading tokenizer.json:   0%|          | 0.00/466k [00:00<?, ?B/s]"
      ]
     },
     "metadata": {},
     "output_type": "display_data"
    },
    {
     "data": {
      "application/vnd.jupyter.widget-view+json": {
       "model_id": "59ca417972b548698e02f7a35e1a0043",
       "version_major": 2,
       "version_minor": 0
      },
      "text/plain": [
       "Downloading tokenizer_config.json:   0%|          | 0.00/350 [00:00<?, ?B/s]"
      ]
     },
     "metadata": {},
     "output_type": "display_data"
    },
    {
     "data": {
      "application/vnd.jupyter.widget-view+json": {
       "model_id": "8650b4ee8fc548e38d0e46f4d1cf2e56",
       "version_major": 2,
       "version_minor": 0
      },
      "text/plain": [
       "Downloading train_script.py:   0%|          | 0.00/13.2k [00:00<?, ?B/s]"
      ]
     },
     "metadata": {},
     "output_type": "display_data"
    },
    {
     "data": {
      "application/vnd.jupyter.widget-view+json": {
       "model_id": "dfa79313d8b94a44aaadec22298c7f98",
       "version_major": 2,
       "version_minor": 0
      },
      "text/plain": [
       "Downloading vocab.txt:   0%|          | 0.00/232k [00:00<?, ?B/s]"
      ]
     },
     "metadata": {},
     "output_type": "display_data"
    },
    {
     "data": {
      "application/vnd.jupyter.widget-view+json": {
       "model_id": "1451c911847f4d91a5420decd0cc271c",
       "version_major": 2,
       "version_minor": 0
      },
      "text/plain": [
       "Downloading modules.json:   0%|          | 0.00/349 [00:00<?, ?B/s]"
      ]
     },
     "metadata": {},
     "output_type": "display_data"
    }
   ],
   "source": [
    "# Modelo de embeddings\n",
    "model_name = \"sentence-transformers/all-MiniLM-L6-v2\"\n",
    "\n",
    "cache_dir = \"./model_cache\"  # Guardar el modelo localmente para evitar sucesivos downloads\n",
    "\n",
    "# Cargar el modelo y guardarlo en la carpeta local\n",
    "# model = SentenceTransformer(model_name)\n",
    "model = SentenceTransformer(model_name, cache_folder=cache_dir)\n"
   ]
  },
  {
   "cell_type": "markdown",
   "id": "d2599857-0365-45ba-9640-99e78f754c2e",
   "metadata": {},
   "source": [
    "**sentence-transformers** es una librería que se utiliza para la generación de embeddings de oraciones. Un embedding es una representación numérica (vectorial) de una oración o texto.\n",
    "\n",
    "**all-MiniLM-L6-v2** es un modelo pequeño y eficiente que genera embeddings de texto. Está basado en la arquitectura MiniLM y tiene 6 capas (L6). Es más rápido y eficiente en comparación con otros modelos más grandes, pero aún mantiene un buen rendimiento.  \n",
    "\n",
    "Se carga el modelo preentrenado desde el nombre especificado en model_name usando la clase **SentenceTransformer** de la librería sentence-transformers.\n",
    "\n",
    "(En futuras ejecuciones, el modelo se cargará directamente desde la carpeta de caché sin necesidad de ser descargado de nuevo)."
   ]
  },
  {
   "cell_type": "markdown",
   "id": "027937c2-2cee-4b5f-bb3f-17e8fe7433e6",
   "metadata": {},
   "source": [
    "### Base de datos ChromaDB"
   ]
  },
  {
   "cell_type": "code",
   "execution_count": 125,
   "id": "17beaf3d-7168-48f8-9869-3198bad2e041",
   "metadata": {},
   "outputs": [],
   "source": [
    "# Inicializar ChromaDB con persistencia\n",
    "client = chromadb.PersistentClient(path=\"./chroma_store\")\n",
    "collection = client.get_or_create_collection(name=\"documentos_ia\")"
   ]
  },
  {
   "cell_type": "markdown",
   "id": "1b8d64c8-6ef0-4e94-82e2-f52fd8882141",
   "metadata": {},
   "source": [
    "**chromadb** es una base de datos de vectores (embeddings) diseñada para facilitar la gestión y la búsqueda eficiente de grandes volúmenes de datos vectorizados.\n",
    "\n",
    "**PersistentClient** es una clase que permite interactuar con la base de datos de manera que los datos sean guardados de forma persistente en disco. Si no se usa persistencia, los datos se mantienen solo en la memoria hasta que se termine la sesión.\n",
    "\n",
    "El parámetro **path=\"./chroma_store\"** define la ubicación del directorio en el cual se almacenarán los vectores y los índices. En este caso, la base de datos se guardará en una carpeta llamada chroma_store del directorio actual."
   ]
  },
  {
   "cell_type": "markdown",
   "id": "94e5dab6-2e9e-4761-a61a-875395277b39",
   "metadata": {},
   "source": [
    "### Funciones auxiliares"
   ]
  },
  {
   "cell_type": "markdown",
   "id": "251cdfdc-da38-44f6-9c0a-a55dd45d2727",
   "metadata": {},
   "source": [
    "#### get_embeddings"
   ]
  },
  {
   "cell_type": "code",
   "execution_count": 126,
   "id": "893c3b47-aac3-42c2-97a1-8a48f7d286e1",
   "metadata": {},
   "outputs": [],
   "source": [
    "def get_embeddings(text):\n",
    "    return model.encode(text).tolist()"
   ]
  },
  {
   "cell_type": "markdown",
   "id": "0efb515c-ba17-4adf-b10c-5e6dbf1c20d1",
   "metadata": {},
   "source": [
    "#### cargar_documentos"
   ]
  },
  {
   "cell_type": "code",
   "execution_count": 127,
   "id": "486f86f1-9ef2-45a2-909d-f04fd328342f",
   "metadata": {},
   "outputs": [],
   "source": [
    "def cargar_documentos():\n",
    "    docs_path = \"docs/\"\n",
    "    documentos = []\n",
    "    metadatos = []\n",
    "    ids = []\n",
    "\n",
    "    for filename in os.listdir(docs_path):\n",
    "        if filename.endswith(\".txt\"):\n",
    "            with open(os.path.join(docs_path, filename), 'r', encoding=\"utf-8\") as f:\n",
    "                text = f.read().strip()\n",
    "                chunks = [text[i:i+500] for i in range(0, len(text), 500)]\n",
    "                \n",
    "                for i, chunk in enumerate(chunks):\n",
    "                    documentos.append(chunk)\n",
    "                    metadatos.append({\"source\": filename})\n",
    "                    ids.append(str(uuid.uuid4()))  # ID único\n",
    "    \n",
    "    return documentos, metadatos, ids"
   ]
  },
  {
   "cell_type": "markdown",
   "id": "a48efcff-ab38-41e6-ab52-e4ae4a5d1492",
   "metadata": {},
   "source": [
    "#### crear_base_datos"
   ]
  },
  {
   "cell_type": "code",
   "execution_count": 128,
   "id": "bfd8c8ff-aa8d-46e2-ab0a-99b46ccda47f",
   "metadata": {},
   "outputs": [],
   "source": [
    "def crear_base_datos():\n",
    "    docs, metas, ids = cargar_documentos()\n",
    "    embeddings = [get_embeddings(d) for d in docs]\n",
    "    collection.add(documents=docs, embeddings=embeddings, metadatas=metas, ids=ids)\n",
    "    print(\"✅ Base de datos creada con éxito.\")"
   ]
  },
  {
   "cell_type": "markdown",
   "id": "a081a3dc-30bc-4f55-87a1-f7407b0ddc74",
   "metadata": {},
   "source": [
    "### Creación de la DB"
   ]
  },
  {
   "cell_type": "code",
   "execution_count": 129,
   "id": "2552292f-0df4-4218-bed7-741056b31d9c",
   "metadata": {},
   "outputs": [
    {
     "name": "stdout",
     "output_type": "stream",
     "text": [
      "✅ Base de datos creada con éxito.\n"
     ]
    }
   ],
   "source": [
    "crear_base_datos()"
   ]
  },
  {
   "cell_type": "code",
   "execution_count": 130,
   "id": "d15db68e-b4c9-4181-b74b-8b72393bd6f7",
   "metadata": {},
   "outputs": [],
   "source": [
    "results = collection.get(include=[\"embeddings\", \"documents\", \"metadatas\"])"
   ]
  },
  {
   "cell_type": "markdown",
   "id": "b857b31a-7808-4d4e-b760-cc395fdc3f84",
   "metadata": {},
   "source": [
    "La variable **results** almacenará un diccionario o estructura de datos (dependiendo de cómo ChromaDB esté configurado) que contiene tres claves:\n",
    "\n",
    "* embeddings: Los vectores numéricos correspondientes a cada documento en la colección.\n",
    "\n",
    "* documents: Los documentos originales (por ejemplo, los textos) almacenados.\n",
    "\n",
    "* metadatas: Los metadatos asociados a esos documentos."
   ]
  },
  {
   "cell_type": "code",
   "execution_count": 131,
   "id": "6dabb84f-128b-4741-b85c-9ff0922cca67",
   "metadata": {},
   "outputs": [
    {
     "name": "stdout",
     "output_type": "stream",
     "text": [
      "ID: 567e887f-ff0f-4396-831b-ce66659b9094, Contenido: La ciudad de Córdoba, ubicada en el corazón de Argentina, es conocida por su rica historia colonial   Metadata: {'source': 'doc3.txt'} Embedding: [0.07863820344209671, -0.02900855988264084, -0.048923082649707794, 0.007204551715403795, -0.03373530134558678]...\n"
     ]
    }
   ],
   "source": [
    "for id, content, metadata, embedding in zip(results[\"ids\"], \n",
    "    results[\"documents\"], results[\"metadatas\"], results[\"embeddings\"]):\n",
    "    \n",
    "    print(f\"ID: {id}, Contenido: {content[:100]} \", \n",
    "          f\"Metadata: {metadata}\", f\"Embedding: {embedding[:5]}...\")\n",
    "\n",
    "    break"
   ]
  },
  {
   "cell_type": "markdown",
   "id": "1ae18382-161a-43f1-8804-032dc140bb59",
   "metadata": {},
   "source": [
    "### Operaciones (CRUD)"
   ]
  },
  {
   "cell_type": "markdown",
   "id": "1d1f1e5c-5abf-46e0-bd89-0fd22aeadf5f",
   "metadata": {},
   "source": [
    "#### Crear documento"
   ]
  },
  {
   "cell_type": "code",
   "execution_count": 132,
   "id": "982c1b3e-1930-4948-8284-af2a3c08bed6",
   "metadata": {},
   "outputs": [],
   "source": [
    "def create_example(new_doc):\n",
    "    \n",
    "    \"\"\"Añadir un documento nuevo\"\"\"\n",
    "    embedding = get_embeddings(new_doc)\n",
    "    doc_id = str(uuid.uuid4())\n",
    "    metadata = {\"source\": \"nuevo_documento.txt\"}\n",
    "    \n",
    "    collection.add(\n",
    "        documents=[new_doc],\n",
    "        embeddings=[embedding],\n",
    "        metadatas=[metadata],\n",
    "        ids=[doc_id]\n",
    "    )\n",
    "    print(f\"✅ Documento añadido con ID: {doc_id}\")\n",
    "\n",
    "    return doc_id"
   ]
  },
  {
   "cell_type": "markdown",
   "id": "76e30755-88a2-45d0-b226-5865006d538e",
   "metadata": {},
   "source": [
    "#### Consultar por tema"
   ]
  },
  {
   "cell_type": "code",
   "execution_count": 133,
   "id": "54ea888b-77ac-4fd2-8f7b-0ac28546d91d",
   "metadata": {},
   "outputs": [],
   "source": [
    "def read_example(query, n=1):\n",
    "    \n",
    "    \"\"\"Consultar documentos similares\"\"\"\n",
    "    query_emb = get_embeddings(query)\n",
    "    results = collection.query(\n",
    "        query_embeddings=[query_emb],\n",
    "        n_results=n\n",
    "    )\n",
    "    \n",
    "    if results:\n",
    "        for id_list, content_list, metadata_list in zip(results[\"ids\"], results[\"documents\"], results[\"metadatas\"]):\n",
    "            for id, content, metadata in zip(id_list, content_list, metadata_list):\n",
    "                print(\"------------------------------------------------------------\\n\")\n",
    "                print(f\"ID: {id}\")\n",
    "                print(f\"Contenido: {content}\")\n",
    "                print(f\"Metadata: {metadata}\")\n",
    "    else:\n",
    "        print(\"⚠️ No se encontraron resultados.\")\n",
    "\n",
    "    return results"
   ]
  },
  {
   "cell_type": "markdown",
   "id": "33bebeb1-b83d-4eeb-a5c0-086a77b86398",
   "metadata": {},
   "source": [
    "#### Buscar documento por id"
   ]
  },
  {
   "cell_type": "code",
   "execution_count": 134,
   "id": "814f495a-bdf9-43e4-b376-62f649d266be",
   "metadata": {},
   "outputs": [],
   "source": [
    "def get_documents_by_id(doc_id):\n",
    "    \n",
    "    \"\"\"Obtener un documento por ID\"\"\"\n",
    "    results = collection.get(ids=[doc_id], include=[\"documents\", \"metadatas\", \"embeddings\"])\n",
    "    \n",
    "    if results[\"documents\"]:\n",
    "        print(f\"📄 Documento: {results['documents'][0]}\")\n",
    "        print(f\"📁 Fuente: {results['metadatas'][0]['source']}\")\n",
    "    else:\n",
    "        print(\"⚠️ Documento no encontrado.\")\n",
    "\n",
    "    return results"
   ]
  },
  {
   "cell_type": "markdown",
   "id": "9a411ec9-1f78-4f09-b954-fb46e93109ac",
   "metadata": {},
   "source": [
    "#### Actualizar documento por id"
   ]
  },
  {
   "cell_type": "code",
   "execution_count": 135,
   "id": "72a302e9-1d0f-4cda-a790-f28cc680f83a",
   "metadata": {},
   "outputs": [],
   "source": [
    "def update_example(old_id, new_text):\n",
    "    \n",
    "    \"\"\"Actualizar un documento (eliminar y reinsertar)\"\"\"\n",
    "    collection.delete(ids=[old_id])\n",
    "    \n",
    "    new_id = str(uuid.uuid4())\n",
    "    embedding = get_embeddings(new_text)\n",
    "    metadata = {\"source\": \"documento_actualizado.txt\"}\n",
    "    \n",
    "    collection.add(\n",
    "        documents=[new_text],\n",
    "        embeddings=[embedding],\n",
    "        metadatas=[metadata],\n",
    "        ids=[new_id]\n",
    "    )\n",
    "    \n",
    "    print(f\"♻️ Documento actualizado. Nuevo ID: {new_id}\")\n",
    "\n",
    "    return new_id"
   ]
  },
  {
   "cell_type": "markdown",
   "id": "14da2d73-ebc7-4132-9038-b0b1f11873d6",
   "metadata": {},
   "source": [
    "#### Eliminar documento por id"
   ]
  },
  {
   "cell_type": "code",
   "execution_count": 136,
   "id": "da27ffc3-8292-47b8-a90f-7e30ab1774a2",
   "metadata": {},
   "outputs": [],
   "source": [
    "def delete_example(doc_id):\n",
    "    \n",
    "    \"\"\"Eliminar por ID\"\"\"\n",
    "    collection.delete(ids=[doc_id])\n",
    "    \n",
    "    print(f\"🗑️ Documento con ID '{doc_id}' eliminado.\")"
   ]
  },
  {
   "cell_type": "markdown",
   "id": "1f3726bd-9fc2-4085-ad58-cb1f6520685e",
   "metadata": {},
   "source": [
    "## Ejercicios"
   ]
  },
  {
   "cell_type": "markdown",
   "id": "4cc7c8f1-4e66-4b3b-820c-601d9131cb63",
   "metadata": {},
   "source": [
    "### Ejercicio 1: Crear y Consultar"
   ]
  },
  {
   "cell_type": "markdown",
   "id": "076b7c3c-92ce-44d1-be97-b94a798cbe12",
   "metadata": {},
   "source": [
    "----------------------------------------------------------------------------\n",
    "Crea un documento nuevo con el texto: \"La gravedad es una fuerza fundamental en el\n",
    "universo\".  \n",
    "Realiza una consulta para encontrar documentos similares a la frase: \"Fuerzas naturales\n",
    "que gobiernan el cosmos\".  \n",
    "\n",
    "¿Qué tipo de operación CRUD usaste primero?  \n",
    "¿Cuál es el ID del documento creado? (Usa collection.peek()).  \n",
    "Explica por qué el documento aparece como coincidencia en la consulta. \n",
    "\n",
    "----------------------------------------------------------------------------"
   ]
  },
  {
   "cell_type": "markdown",
   "id": "082584ce-aba9-4192-b31f-7c85c20daf4b",
   "metadata": {},
   "source": [
    "Para crear el documento se utiliza la función **create_example** que usa el método **add** de la colección para añadir el documento a ChromaDB. \n",
    "Esto añadirá el nuevo documento a la base de datos, junto con su embedding, metadatos e ID."
   ]
  },
  {
   "cell_type": "code",
   "execution_count": 137,
   "id": "6b92f2e0-1a48-4596-bebc-99f01efd2047",
   "metadata": {},
   "outputs": [
    {
     "name": "stdout",
     "output_type": "stream",
     "text": [
      "✅ Documento añadido con ID: 703c9472-c004-4c04-ba8b-42cb131bd2c3\n"
     ]
    }
   ],
   "source": [
    "doc_id = create_example(\"La gravedad es una fuerza fundamental en el universo\")"
   ]
  },
  {
   "cell_type": "code",
   "execution_count": 138,
   "id": "2659f81e-582c-4ce3-af0d-7052f999dca8",
   "metadata": {},
   "outputs": [
    {
     "name": "stdout",
     "output_type": "stream",
     "text": [
      "------------------------------------------------------------\n",
      "\n",
      "ID: 1c5a4c0f-071b-4f55-b2d0-56d45352cd4b\n",
      "Contenido: caudal y la belleza de su entorno selvático atraen a miles de visitantes cada año.\n",
      "\n",
      "La Antártida Argentina es un territorio reclamado por el país, donde se realizan importantes investigaciones científicas en diversas áreas, desde la glaciología hasta la biología marina.\n",
      "\n",
      "La astronomía tiene un lugar destacado en Argentina, con observatorios de renombre internacional como el Observatorio Pierre Auger, dedicado al estudio de los rayos cósmicos de ultra alta energía.\n",
      "\n",
      "La biotecnología es un sector \n",
      "Metadata: {'source': 'doc3.txt'}\n"
     ]
    }
   ],
   "source": [
    "similar_docs = read_example(\"Fuerzas naturales que gobiernan el cosmos\")"
   ]
  },
  {
   "cell_type": "code",
   "execution_count": 139,
   "id": "887c9026-3849-48eb-a7c1-ed9485965bfd",
   "metadata": {},
   "outputs": [
    {
     "name": "stdout",
     "output_type": "stream",
     "text": [
      "------------------------------------------------------------\n",
      "\n",
      "ID: 1c5a4c0f-071b-4f55-b2d0-56d45352cd4b\n",
      "Contenido: caudal y la belleza de su entorno selvático atraen a miles de visitantes cada año.\n",
      "\n",
      "La Antártida Argentina es un territorio reclamado por el país, donde se realizan importantes investigaciones científicas en diversas áreas, desde la glaciología hasta la biología marina.\n",
      "\n",
      "La astronomía tiene un lugar destacado en Argentina, con observatorios de renombre internacional como el Observatorio Pierre Auger, dedicado al estudio de los rayos cósmicos de ultra alta energía.\n",
      "\n",
      "La biotecnología es un sector \n",
      "Metadata: {'source': 'doc3.txt'}\n",
      "------------------------------------------------------------\n",
      "\n",
      "ID: ccf24687-28c4-4bb2-83a9-06d04a1a9524\n",
      "Contenido: territorio y sus influencias culturales.\n",
      "\n",
      "La ciencia y la tecnología también tienen un lugar importante en Argentina. Investigadores y científicos trabajan en diversas áreas, desde la biotecnología hasta la astronomía, contribuyendo al avance del conocimiento.\n",
      "\n",
      "La música folklórica argentina, con sus ritmos y melodías características, cuenta historias de la tierra y sus habitantes. Instrumentos como la guitarra, el charango y el bombo legüero son protagonistas de estas expresiones culturales.\n",
      "\n",
      "E\n",
      "Metadata: {'source': 'doc1.txt'}\n",
      "------------------------------------------------------------\n",
      "\n",
      "ID: 7e3f0a57-56b5-4906-92fe-36cedec9a3af\n",
      "Contenido: r la paz, el desarrollo y la cooperación.\n",
      "\n",
      "El respeto por los derechos humanos es un valor fundamental en la sociedad argentina. Se han realizado importantes avances en la protección y promoción de los derechos civiles, políticos, económicos, sociales y culturales.\n",
      "\n",
      "La diversidad cultural es una característica enriquecedora de Argentina, resultado de la inmigración de diferentes partes del mundo a lo largo de su historia. Esta mezcla de culturas se refleja en la gastronomía, la música, el arte y\n",
      "Metadata: {'source': 'doc2.txt'}\n",
      "------------------------------------------------------------\n",
      "\n",
      "ID: 703c9472-c004-4c04-ba8b-42cb131bd2c3\n",
      "Contenido: La gravedad es una fuerza fundamental en el universo\n",
      "Metadata: {'source': 'nuevo_documento.txt'}\n",
      "------------------------------------------------------------\n",
      "\n",
      "ID: adfd4bd3-a9c5-4ce8-b7c0-6e5956b2bbd5\n",
      "Contenido: numerosos sitios históricos y culturales que son protegidos y valorados.\n",
      "Metadata: {'source': 'doc2.txt'}\n"
     ]
    }
   ],
   "source": [
    "similar_docs = read_example(\"Fuerzas naturales que gobiernan el cosmos\", 5)"
   ]
  },
  {
   "cell_type": "markdown",
   "id": "d80c7d96-8f3c-4241-afd1-8c72069d0df3",
   "metadata": {},
   "source": [
    "El nuevo documento está en la lista de los mejores cinco, significa que es considerado relevante para la consulta debido a que los embeddings son semánticamente similares.   \n",
    "En otras palabras, el documento es temáticamente cercano a lo que se ingresó en la búsqueda.  \n",
    "Ese es el objetivo de usar embeddings en lugar de búsquedas exactas de texto."
   ]
  },
  {
   "cell_type": "code",
   "execution_count": 140,
   "id": "c095f0f0-8a2e-479a-9f98-ba62f6d09776",
   "metadata": {},
   "outputs": [],
   "source": [
    "# Obtener un resumen de la colección\n",
    "summary = collection.peek()\n"
   ]
  },
  {
   "cell_type": "code",
   "execution_count": 141,
   "id": "8adb7d33-3c8a-42f5-8a77-7f44cbbba46a",
   "metadata": {},
   "outputs": [
    {
     "name": "stdout",
     "output_type": "stream",
     "text": [
      "ids 10\n",
      "embeddings 10\n",
      "metadatas 10\n",
      "documents 10\n"
     ]
    }
   ],
   "source": [
    "for key, value in summary.items():\n",
    "    print (key, len(value))"
   ]
  },
  {
   "cell_type": "code",
   "execution_count": 142,
   "id": "10e9adfd-bd79-42c0-b858-b9c2a2a23cfc",
   "metadata": {},
   "outputs": [
    {
     "name": "stdout",
     "output_type": "stream",
     "text": [
      "La colección tiene 34 documentos.\n"
     ]
    }
   ],
   "source": [
    "# Obtener la cantidad de documentos en la colección\n",
    "print(f\"La colección tiene {collection.count()} documentos.\")\n"
   ]
  },
  {
   "cell_type": "code",
   "execution_count": 143,
   "id": "60e53278-042d-4953-bff8-bfd9326e1be8",
   "metadata": {},
   "outputs": [
    {
     "name": "stdout",
     "output_type": "stream",
     "text": [
      "34\n"
     ]
    }
   ],
   "source": [
    "results = collection.get(include=[\"documents\", \"embeddings\", \"metadatas\"])\n",
    "print(len(results['documents']))"
   ]
  },
  {
   "cell_type": "code",
   "execution_count": 144,
   "id": "3d54826f-f355-4c21-985b-08a600ad8ca7",
   "metadata": {},
   "outputs": [
    {
     "name": "stdout",
     "output_type": "stream",
     "text": [
      "Id del último documento añadido: 703c9472-c004-4c04-ba8b-42cb131bd2c3\n"
     ]
    }
   ],
   "source": [
    "print(f'Id del último documento añadido: {doc_id}')"
   ]
  },
  {
   "cell_type": "markdown",
   "id": "8a2468fe-973c-4572-a176-390385894bd5",
   "metadata": {},
   "source": [
    "### Ejercicio 2: Actualizar y Eliminar"
   ]
  },
  {
   "cell_type": "markdown",
   "id": "d299d645-ee9d-4144-bc3d-ccf6fede52f9",
   "metadata": {},
   "source": [
    "----------------------------------------------------------------------------\n",
    "Crea un documento con el texto: \"Redes neuronales imitan procesos cerebrales\".  \n",
    "Encuentra su ID, luego actualízalo por: \"Deep Learning es un subcampo de IA con redes\n",
    "neuronales profundas\".  \n",
    "\n",
    "Elimina el documento original usando el mismo ID.  \n",
    "¿Qué ocurre si intentas actualizar un documento eliminado?  \n",
    "¿Cómo se garantiza la integridad de los datos en las operaciones?  \n",
    "\n",
    "----------------------------------------------------------------------------"
   ]
  },
  {
   "cell_type": "code",
   "execution_count": 145,
   "id": "b8ab4c53-cf88-42f5-90ad-5784574b8615",
   "metadata": {},
   "outputs": [
    {
     "name": "stdout",
     "output_type": "stream",
     "text": [
      "✅ Documento añadido con ID: 3447bb5f-a79c-4ce5-a1b7-5f4200c160a3\n"
     ]
    }
   ],
   "source": [
    "doc_id = create_example(\"Redes neuronales imitan procesos cerebrales\")"
   ]
  },
  {
   "cell_type": "code",
   "execution_count": 146,
   "id": "e4bfa045-f5f7-4c80-8a54-498ee3d1a463",
   "metadata": {},
   "outputs": [
    {
     "name": "stdout",
     "output_type": "stream",
     "text": [
      "♻️ Documento actualizado. Nuevo ID: b75708ae-2688-433d-9446-956bea38048e\n"
     ]
    }
   ],
   "source": [
    "new_doc_id = update_example(doc_id, \"Deep Learning es un subcampo de IA con redes neuronales profundas\")"
   ]
  },
  {
   "cell_type": "markdown",
   "id": "4c041b2d-86f9-4ef4-8636-5afe088b2255",
   "metadata": {},
   "source": [
    "La función **update_example** realiza la eliminación del embedding original y la creación de uno nuevo, por lo que, se genera un nuevo id.  \n",
    "Lo ideal sería reutilizar el mismo id en lugar de crear uno nuevo (por ejemplo, con la operación de collection.upsert()). Esto ayuda a mantener la coherencia en las búsquedas y en las relaciones entre los documentos y sus embeddings.\n"
   ]
  },
  {
   "cell_type": "code",
   "execution_count": 147,
   "id": "dfeb292c-49ae-4feb-bf9a-e40a22eff1c4",
   "metadata": {},
   "outputs": [
    {
     "name": "stderr",
     "output_type": "stream",
     "text": [
      "Delete of nonexisting embedding ID: 3447bb5f-a79c-4ce5-a1b7-5f4200c160a3\n",
      "Delete of nonexisting embedding ID: 3447bb5f-a79c-4ce5-a1b7-5f4200c160a3\n"
     ]
    },
    {
     "name": "stdout",
     "output_type": "stream",
     "text": [
      "🗑️ Documento con ID '3447bb5f-a79c-4ce5-a1b7-5f4200c160a3' eliminado.\n"
     ]
    }
   ],
   "source": [
    "delete_example(doc_id)"
   ]
  },
  {
   "cell_type": "code",
   "execution_count": 148,
   "id": "0b49b9cb-db0b-445c-a61f-21ea1dbb19f3",
   "metadata": {},
   "outputs": [
    {
     "name": "stdout",
     "output_type": "stream",
     "text": [
      "🗑️ Documento con ID 'b75708ae-2688-433d-9446-956bea38048e' eliminado.\n"
     ]
    }
   ],
   "source": [
    "delete_example(new_doc_id)"
   ]
  },
  {
   "cell_type": "markdown",
   "id": "0a44f139-3f65-4176-b627-497a3d2e9067",
   "metadata": {},
   "source": [
    "Las operaciones de eliminación y actualización son atómicas en ChromaDB."
   ]
  },
  {
   "cell_type": "markdown",
   "id": "d261aa5c-8020-4e38-bfa5-c9d35d3f88cd",
   "metadata": {},
   "source": [
    "### Ejercicio 3: Errores y Validación"
   ]
  },
  {
   "cell_type": "markdown",
   "id": "75f78517-4c27-4683-a1d1-e608972baa75",
   "metadata": {},
   "source": [
    "----------------------------------------------------------------------------\n",
    "Intenta eliminar un documento con el ID \"no_existe\".  \n",
    "Crea un nuevo documento sin usar get_embeddings() (ejemplo: enviar un array vacío).  \n",
    "\n",
    "¿Qué errores ocurren en cada caso?  \n",
    "¿Cómo prevenir estos problemas?\n",
    "\n",
    "----------------------------------------------------------------------------"
   ]
  },
  {
   "cell_type": "code",
   "execution_count": 149,
   "id": "e8c8df7a-ed46-421a-a715-ae15b5e5445f",
   "metadata": {},
   "outputs": [
    {
     "name": "stderr",
     "output_type": "stream",
     "text": [
      "Delete of nonexisting embedding ID: no_existe\n",
      "Delete of nonexisting embedding ID: no_existe\n"
     ]
    },
    {
     "name": "stdout",
     "output_type": "stream",
     "text": [
      "🗑️ Documento con ID 'no_existe' eliminado.\n"
     ]
    }
   ],
   "source": [
    "delete_example(\"no_existe\")"
   ]
  },
  {
   "cell_type": "markdown",
   "id": "94921d47-ce88-4134-a086-53053eaf0101",
   "metadata": {},
   "source": [
    "La eliminación no genera error, la operación se completa sin afectar la base de datos.  \n",
    "Sin embargo, arroja el mensaje a manera de warning de que ese ID no existe.  \n",
    "\n",
    "La opción sería prevenir la eliminación de documentos que no existen, verificar previamente si el documento existe antes de intentar eliminarlo, teniendo así control explícito de la operación y dando además la posibilidad de personalizar el feedback.  \n",
    "\n",
    "Por ejemplo:"
   ]
  },
  {
   "cell_type": "code",
   "execution_count": 150,
   "id": "e7ab9077-111e-4cb6-a61c-302b945239b1",
   "metadata": {},
   "outputs": [],
   "source": [
    "def delete_example_ok (doc_id):\n",
    "\n",
    "    # Verificar que el documento existe antes de eliminarlo\n",
    "    documento = collection.get(ids=[doc_id])\n",
    "  \n",
    "    if documento['ids']:\n",
    "        collection.delete(ids=[doc_id])\n",
    "        print(f\"🗑️ Documento con ID '{doc_id}' eliminado.\")\n",
    "        ok = True\n",
    "    else:\n",
    "        print(f\"⚠️ El documento con ID '{doc_id}' no existe.\")\n",
    "        ok = False \n",
    "        \n",
    "    return ok"
   ]
  },
  {
   "cell_type": "code",
   "execution_count": 151,
   "id": "d2f02939-9bdf-4640-9c26-67361dd28c64",
   "metadata": {},
   "outputs": [
    {
     "name": "stdout",
     "output_type": "stream",
     "text": [
      "⚠️ El documento con ID 'no_existe' no existe.\n"
     ]
    }
   ],
   "source": [
    "flag = delete_example_ok(\"no_existe\")"
   ]
  },
  {
   "cell_type": "code",
   "execution_count": 152,
   "id": "5b43490a-e08a-4c17-afd3-0a6cc6939ee0",
   "metadata": {},
   "outputs": [
    {
     "name": "stdout",
     "output_type": "stream",
     "text": [
      "✅ Documento añadido con ID: 826633d4-fff4-42f4-b7a5-2059628749a2\n"
     ]
    }
   ],
   "source": [
    "doc_id = create_example(\"\")"
   ]
  },
  {
   "cell_type": "markdown",
   "id": "4c631f73-ffd7-47b3-8174-b7fb0a923beb",
   "metadata": {},
   "source": [
    "Para añadir un documento sin *get_embeddings*:"
   ]
  },
  {
   "cell_type": "code",
   "execution_count": 153,
   "id": "19266897-150a-4ab8-a0ac-aeb24d77a321",
   "metadata": {},
   "outputs": [],
   "source": [
    "def create_example_without_emb(new_doc, emb=\"\"):\n",
    "    \n",
    "    \"\"\"Añadir un documento nuevo con string vacío en los embeddings\"\"\"\n",
    "    embedding = emb\n",
    "    doc_id = str(uuid.uuid4())\n",
    "    metadata = {\"source\": \"nuevo_documento.txt\"}\n",
    "    \n",
    "    collection.add(\n",
    "        documents=[new_doc],\n",
    "        embeddings=[embedding],\n",
    "        metadatas=[metadata],\n",
    "        ids=[doc_id]\n",
    "    )\n",
    "    print(f\"✅ Documento añadido con ID: {doc_id}\")\n",
    "\n",
    "    return doc_id"
   ]
  },
  {
   "cell_type": "code",
   "execution_count": 155,
   "id": "c33324fb-5619-4dd6-bfa5-61340004e43d",
   "metadata": {},
   "outputs": [
    {
     "ename": "ValueError",
     "evalue": "Expected each embedding in the embeddings to be a list, got ['']",
     "output_type": "error",
     "traceback": [
      "\u001b[31m---------------------------------------------------------------------------\u001b[39m",
      "\u001b[31mValueError\u001b[39m                                Traceback (most recent call last)",
      "\u001b[36mCell\u001b[39m\u001b[36m \u001b[39m\u001b[32mIn[155]\u001b[39m\u001b[32m, line 1\u001b[39m\n\u001b[32m----> \u001b[39m\u001b[32m1\u001b[39m create_example_without_emb(\u001b[33m\"\u001b[39m\u001b[33mnuevo documento de prueba\u001b[39m\u001b[33m\"\u001b[39m, \u001b[33m\"\u001b[39m\u001b[33m\"\u001b[39m)\n",
      "\u001b[36mCell\u001b[39m\u001b[36m \u001b[39m\u001b[32mIn[153]\u001b[39m\u001b[32m, line 8\u001b[39m, in \u001b[36mcreate_example_without_emb\u001b[39m\u001b[34m(new_doc, emb)\u001b[39m\n\u001b[32m      5\u001b[39m doc_id = \u001b[38;5;28mstr\u001b[39m(uuid.uuid4())\n\u001b[32m      6\u001b[39m metadata = {\u001b[33m\"\u001b[39m\u001b[33msource\u001b[39m\u001b[33m\"\u001b[39m: \u001b[33m\"\u001b[39m\u001b[33mnuevo_documento.txt\u001b[39m\u001b[33m\"\u001b[39m}\n\u001b[32m----> \u001b[39m\u001b[32m8\u001b[39m collection.add(\n\u001b[32m      9\u001b[39m     documents=[new_doc],\n\u001b[32m     10\u001b[39m     embeddings=[embedding],\n\u001b[32m     11\u001b[39m     metadatas=[metadata],\n\u001b[32m     12\u001b[39m     ids=[doc_id]\n\u001b[32m     13\u001b[39m )\n\u001b[32m     14\u001b[39m \u001b[38;5;28mprint\u001b[39m(\u001b[33mf\u001b[39m\u001b[33m\"\u001b[39m\u001b[33m✅ Documento añadido con ID: \u001b[39m\u001b[38;5;132;01m{\u001b[39;00mdoc_id\u001b[38;5;132;01m}\u001b[39;00m\u001b[33m\"\u001b[39m)\n\u001b[32m     16\u001b[39m \u001b[38;5;28;01mreturn\u001b[39;00m doc_id\n",
      "\u001b[36mFile \u001b[39m\u001b[32m~/anaconda3/envs/BDIA_TP4/lib/python3.11/site-packages/chromadb/api/models/Collection.py:95\u001b[39m, in \u001b[36mCollection.add\u001b[39m\u001b[34m(self, ids, embeddings, metadatas, documents)\u001b[39m\n\u001b[32m     69\u001b[39m \u001b[38;5;28;01mdef\u001b[39;00m\u001b[38;5;250m \u001b[39m\u001b[34madd\u001b[39m(\n\u001b[32m     70\u001b[39m     \u001b[38;5;28mself\u001b[39m,\n\u001b[32m     71\u001b[39m     ids: OneOrMany[ID],\n\u001b[32m   (...)\u001b[39m\u001b[32m     74\u001b[39m     documents: Optional[OneOrMany[Document]] = \u001b[38;5;28;01mNone\u001b[39;00m,\n\u001b[32m     75\u001b[39m ) -> \u001b[38;5;28;01mNone\u001b[39;00m:\n\u001b[32m     76\u001b[39m \u001b[38;5;250m    \u001b[39m\u001b[33;03m\"\"\"Add embeddings to the data store.\u001b[39;00m\n\u001b[32m     77\u001b[39m \u001b[33;03m    Args:\u001b[39;00m\n\u001b[32m     78\u001b[39m \u001b[33;03m        ids: The ids of the embeddings you wish to add\u001b[39;00m\n\u001b[32m   (...)\u001b[39m\u001b[32m     92\u001b[39m \n\u001b[32m     93\u001b[39m \u001b[33;03m    \"\"\"\u001b[39;00m\n\u001b[32m---> \u001b[39m\u001b[32m95\u001b[39m     ids, embeddings, metadatas, documents = \u001b[38;5;28mself\u001b[39m._validate_embedding_set(\n\u001b[32m     96\u001b[39m         ids, embeddings, metadatas, documents\n\u001b[32m     97\u001b[39m     )\n\u001b[32m     99\u001b[39m     \u001b[38;5;28mself\u001b[39m._client._add(ids, \u001b[38;5;28mself\u001b[39m.id, embeddings, metadatas, documents)\n",
      "\u001b[36mFile \u001b[39m\u001b[32m~/anaconda3/envs/BDIA_TP4/lib/python3.11/site-packages/chromadb/api/models/Collection.py:344\u001b[39m, in \u001b[36mCollection._validate_embedding_set\u001b[39m\u001b[34m(self, ids, embeddings, metadatas, documents, require_embeddings_or_documents)\u001b[39m\n\u001b[32m    329\u001b[39m \u001b[38;5;28;01mdef\u001b[39;00m\u001b[38;5;250m \u001b[39m\u001b[34m_validate_embedding_set\u001b[39m(\n\u001b[32m    330\u001b[39m     \u001b[38;5;28mself\u001b[39m,\n\u001b[32m    331\u001b[39m     ids: OneOrMany[ID],\n\u001b[32m   (...)\u001b[39m\u001b[32m    340\u001b[39m     Optional[List[Document]],\n\u001b[32m    341\u001b[39m ]:\n\u001b[32m    342\u001b[39m     ids = validate_ids(maybe_cast_one_to_many(ids))\n\u001b[32m    343\u001b[39m     embeddings = (\n\u001b[32m--> \u001b[39m\u001b[32m344\u001b[39m         validate_embeddings(maybe_cast_one_to_many(embeddings))\n\u001b[32m    345\u001b[39m         \u001b[38;5;28;01mif\u001b[39;00m embeddings \u001b[38;5;129;01mis\u001b[39;00m \u001b[38;5;129;01mnot\u001b[39;00m \u001b[38;5;28;01mNone\u001b[39;00m\n\u001b[32m    346\u001b[39m         \u001b[38;5;28;01melse\u001b[39;00m \u001b[38;5;28;01mNone\u001b[39;00m\n\u001b[32m    347\u001b[39m     )\n\u001b[32m    348\u001b[39m     metadatas = (\n\u001b[32m    349\u001b[39m         validate_metadatas(maybe_cast_one_to_many(metadatas))\n\u001b[32m    350\u001b[39m         \u001b[38;5;28;01mif\u001b[39;00m metadatas \u001b[38;5;129;01mis\u001b[39;00m \u001b[38;5;129;01mnot\u001b[39;00m \u001b[38;5;28;01mNone\u001b[39;00m\n\u001b[32m    351\u001b[39m         \u001b[38;5;28;01melse\u001b[39;00m \u001b[38;5;28;01mNone\u001b[39;00m\n\u001b[32m    352\u001b[39m     )\n\u001b[32m    353\u001b[39m     documents = maybe_cast_one_to_many(documents) \u001b[38;5;28;01mif\u001b[39;00m documents \u001b[38;5;129;01mis\u001b[39;00m \u001b[38;5;129;01mnot\u001b[39;00m \u001b[38;5;28;01mNone\u001b[39;00m \u001b[38;5;28;01melse\u001b[39;00m \u001b[38;5;28;01mNone\u001b[39;00m\n",
      "\u001b[36mFile \u001b[39m\u001b[32m~/anaconda3/envs/BDIA_TP4/lib/python3.11/site-packages/chromadb/api/types.py:337\u001b[39m, in \u001b[36mvalidate_embeddings\u001b[39m\u001b[34m(embeddings)\u001b[39m\n\u001b[32m    333\u001b[39m     \u001b[38;5;28;01mraise\u001b[39;00m \u001b[38;5;167;01mValueError\u001b[39;00m(\n\u001b[32m    334\u001b[39m         \u001b[33mf\u001b[39m\u001b[33m\"\u001b[39m\u001b[33mExpected embeddings to be a list with at least one item, got \u001b[39m\u001b[38;5;132;01m{\u001b[39;00membeddings\u001b[38;5;132;01m}\u001b[39;00m\u001b[33m\"\u001b[39m\n\u001b[32m    335\u001b[39m     )\n\u001b[32m    336\u001b[39m \u001b[38;5;28;01mif\u001b[39;00m \u001b[38;5;129;01mnot\u001b[39;00m \u001b[38;5;28mall\u001b[39m([\u001b[38;5;28misinstance\u001b[39m(e, \u001b[38;5;28mlist\u001b[39m) \u001b[38;5;28;01mfor\u001b[39;00m e \u001b[38;5;129;01min\u001b[39;00m embeddings]):\n\u001b[32m--> \u001b[39m\u001b[32m337\u001b[39m     \u001b[38;5;28;01mraise\u001b[39;00m \u001b[38;5;167;01mValueError\u001b[39;00m(\n\u001b[32m    338\u001b[39m         \u001b[33mf\u001b[39m\u001b[33m\"\u001b[39m\u001b[33mExpected each embedding in the embeddings to be a list, got \u001b[39m\u001b[38;5;132;01m{\u001b[39;00membeddings\u001b[38;5;132;01m}\u001b[39;00m\u001b[33m\"\u001b[39m\n\u001b[32m    339\u001b[39m     )\n\u001b[32m    340\u001b[39m \u001b[38;5;28;01mfor\u001b[39;00m embedding \u001b[38;5;129;01min\u001b[39;00m embeddings:\n\u001b[32m    341\u001b[39m     \u001b[38;5;28;01mif\u001b[39;00m \u001b[38;5;129;01mnot\u001b[39;00m \u001b[38;5;28mall\u001b[39m([\u001b[38;5;28misinstance\u001b[39m(value, (\u001b[38;5;28mint\u001b[39m, \u001b[38;5;28mfloat\u001b[39m)) \u001b[38;5;28;01mfor\u001b[39;00m value \u001b[38;5;129;01min\u001b[39;00m embedding]):\n",
      "\u001b[31mValueError\u001b[39m: Expected each embedding in the embeddings to be a list, got ['']"
     ]
    }
   ],
   "source": [
    "create_example_without_emb(\"nuevo documento de prueba\", \"\")"
   ]
  },
  {
   "cell_type": "markdown",
   "id": "f5436e82-b4f9-4bf3-8fa8-964cf304c3f7",
   "metadata": {},
   "source": [
    "Esta operación da error.  \n",
    "ChromaDB lanza el error **\"ValueError: Expected each embedding in the embeddings to be a list, got ['']\"** porque un embedding vacío no es válido.   \n",
    "Los embeddings deben ser vectores numéricos.  "
   ]
  },
  {
   "cell_type": "markdown",
   "id": "eb763c52-dc41-4039-914f-341a3264f5c6",
   "metadata": {},
   "source": [
    "Para evitar insertar embeddings vacíos, se puede hacer una validación previa antes de intentar la inserción para asegurarse de que el vector no esté vacío y que tenga la longitud correcta."
   ]
  },
  {
   "cell_type": "code",
   "execution_count": 156,
   "id": "c432adb2-4575-4e2a-8754-9919ee2af4fe",
   "metadata": {},
   "outputs": [],
   "source": [
    "def create_example_without_emb_ok(new_doc, emb=\"\"):\n",
    "    \n",
    "    \"\"\"Añadir un documento nuevo con string vacío en los embeddings y validación\"\"\"\n",
    "    embedding = emb\n",
    "\n",
    "    if len(embedding) > 0:\n",
    "        doc_id = str(uuid.uuid4())\n",
    "        metadata = {\"source\": \"nuevo_documento.txt\"}\n",
    "        \n",
    "        collection.add(\n",
    "            documents=[new_doc],\n",
    "            embeddings=[embedding],\n",
    "            metadatas=[metadata],\n",
    "            ids=[doc_id]\n",
    "        )\n",
    "        print(f\"✅ Documento añadido con ID: {doc_id}\")\n",
    "    else:\n",
    "        print(f\"⚠️ El embedding no puede ser vacío.\")\n",
    "    "
   ]
  },
  {
   "cell_type": "code",
   "execution_count": 157,
   "id": "f217828b-e3e5-46e5-b847-a732dd6234ef",
   "metadata": {},
   "outputs": [
    {
     "name": "stdout",
     "output_type": "stream",
     "text": [
      "⚠️ El embedding no puede ser vacío.\n"
     ]
    }
   ],
   "source": [
    "create_example_without_emb_ok(\"nuevo documento de prueba\", \"\")"
   ]
  },
  {
   "cell_type": "markdown",
   "id": "2e791c89-8a76-40d9-854d-30b334fade17",
   "metadata": {},
   "source": [
    "### Ejercicio 4: Consultas por Tema"
   ]
  },
  {
   "cell_type": "markdown",
   "id": "9eeaa84c-23e9-44cb-83e2-94423bd28201",
   "metadata": {},
   "source": [
    "----------------------------------------------------------------------------\n",
    "Crea tres documentos:  \n",
    "\"Python es ideal para ciencia de datos\"  \n",
    "\"JavaScript maneja interacciones web dinámicas\"  \n",
    "\"Java se usa en aplicaciones empresariales\"  \n",
    "Realiza una consulta por la frase: \"Lenguajes backend y frontend\".  \n",
    "\n",
    "¿Cuáles documentos aparecen como coincidencias?  \n",
    "Analiza cómo las palabras clave influyen en los resultados.  \n",
    "\n",
    "----------------------------------------------------------------------------"
   ]
  },
  {
   "cell_type": "code",
   "execution_count": 158,
   "id": "e038dbeb-32c4-4f4f-ad91-9c0055cf3eb2",
   "metadata": {},
   "outputs": [
    {
     "name": "stdout",
     "output_type": "stream",
     "text": [
      "✅ Documento añadido con ID: 2c06af2d-069c-4142-99f8-7d7913e9968e\n"
     ]
    }
   ],
   "source": [
    "doc1_id = create_example(\"Python es ideal para ciencia de datos\")"
   ]
  },
  {
   "cell_type": "code",
   "execution_count": 159,
   "id": "3af30ab1-76b3-4603-ac6b-c82040536b27",
   "metadata": {},
   "outputs": [
    {
     "name": "stdout",
     "output_type": "stream",
     "text": [
      "✅ Documento añadido con ID: 19c60dc8-7bae-472c-baf9-9ca5e96e6e24\n"
     ]
    }
   ],
   "source": [
    "doc2_id = create_example(\"JavaScript maneja interacciones web dinámicas\")"
   ]
  },
  {
   "cell_type": "code",
   "execution_count": 160,
   "id": "58a636e1-db08-45fd-8369-0e64d026ce48",
   "metadata": {},
   "outputs": [
    {
     "name": "stdout",
     "output_type": "stream",
     "text": [
      "✅ Documento añadido con ID: 1e135cd1-a229-46fd-b364-21b7816b82e8\n"
     ]
    }
   ],
   "source": [
    "doc3_id = create_example(\"Java se usa en aplicaciones empresariales\")"
   ]
  },
  {
   "cell_type": "code",
   "execution_count": 161,
   "id": "bf84a3f9-d9d7-40af-a15b-3c8ce93da468",
   "metadata": {},
   "outputs": [
    {
     "name": "stdout",
     "output_type": "stream",
     "text": [
      "------------------------------------------------------------\n",
      "\n",
      "ID: 02d8f891-b6ed-448c-bd87-b04e181e088d\n",
      "Contenido: lenguaje natural (PNL) es un campo de la inteligencia artificial que se centra en la comprensión y generación del lenguaje humano. Los embeddings son una herramienta fundamental en muchas tareas de PNL.\n",
      "\n",
      "Los sistemas de recomendación utilizan bases de datos vectoriales para encontrar elementos similares a los que un usuario ha mostrado interés previamente. Esto permite ofrecer sugerencias personalizadas de productos, películas o música.\n",
      "\n",
      "La detección de anomalías se basa en la identificación de \n",
      "Metadata: {'source': 'doc1.txt'}\n"
     ]
    }
   ],
   "source": [
    "x1 = read_example(\"Lenguajes backend y frontend\", n=1)"
   ]
  },
  {
   "cell_type": "code",
   "execution_count": 162,
   "id": "d6db3433-110e-49d9-9496-ef584a3a2762",
   "metadata": {},
   "outputs": [
    {
     "name": "stdout",
     "output_type": "stream",
     "text": [
      "------------------------------------------------------------\n",
      "\n",
      "ID: 02d8f891-b6ed-448c-bd87-b04e181e088d\n",
      "Contenido: lenguaje natural (PNL) es un campo de la inteligencia artificial que se centra en la comprensión y generación del lenguaje humano. Los embeddings son una herramienta fundamental en muchas tareas de PNL.\n",
      "\n",
      "Los sistemas de recomendación utilizan bases de datos vectoriales para encontrar elementos similares a los que un usuario ha mostrado interés previamente. Esto permite ofrecer sugerencias personalizadas de productos, películas o música.\n",
      "\n",
      "La detección de anomalías se basa en la identificación de \n",
      "Metadata: {'source': 'doc1.txt'}\n",
      "------------------------------------------------------------\n",
      "\n",
      "ID: 3c258089-09c5-4f00-be4e-42db4393e908\n",
      "Contenido: ósiles.\n",
      "\n",
      "La exploración espacial es un campo en crecimiento en Argentina, con el desarrollo de satélites y la participación en proyectos internacionales. La investigación y el desarrollo en este ámbito son fundamentales para el avance tecnológico del país.\n",
      "\n",
      "La educación es un pilar fundamental para el desarrollo de Argentina. Se están realizando esfuerzos para mejorar la calidad y la equidad del sistema educativo en todos los niveles.\n",
      "\n",
      "La salud pública es una prioridad en Argentina, con un siste\n",
      "Metadata: {'source': 'doc2.txt'}\n",
      "------------------------------------------------------------\n",
      "\n",
      "ID: 19c60dc8-7bae-472c-baf9-9ca5e96e6e24\n",
      "Contenido: JavaScript maneja interacciones web dinámicas\n",
      "Metadata: {'source': 'nuevo_documento.txt'}\n",
      "------------------------------------------------------------\n",
      "\n",
      "ID: 2ccb0d22-0420-4f5a-b82f-642561c584de\n",
      "Contenido: ales para acelerar la búsqueda de vecinos más cercanos.\n",
      "\n",
      "La evaluación de la calidad de los embeddings es crucial para asegurar que capturen de manera efectiva el significado semántico de los datos. Se utilizan diversas métricas y técnicas para realizar esta evaluación.\n",
      "\n",
      "La elección del modelo de embedding adecuado depende de la tarea específica y del tipo de datos que se estén utilizando. Existen diferentes modelos pre-entrenados y técnicas para entrenar modelos personalizados.\n",
      "\n",
      "El ajuste fino \n",
      "Metadata: {'source': 'doc1.txt'}\n",
      "------------------------------------------------------------\n",
      "\n",
      "ID: 1b9916cf-5183-440c-84c8-71324b99d2f1\n",
      "Contenido:  los restaurantes servían deliciosas parrilladas.\n",
      "\n",
      "Hacia el norte, el elegante barrio de Recoleta invitaba a la tranquilidad con sus amplias avenidas y parques cuidados. El Cementerio de la Recoleta, con sus imponentes mausoleos, era un laberinto de historia y arte funerario. Los cafés y boutiques de la zona ofrecían un ambiente sofisticado.\n",
      "\n",
      "La literatura argentina ha dado grandes nombres como Jorge Luis Borges y Julio Cortázar, cuyas obras han trascendido fronteras y generaciones. Sus cuentos \n",
      "Metadata: {'source': 'doc1.txt'}\n"
     ]
    }
   ],
   "source": [
    "x5 = read_example(\"Lenguajes backend y frontend\", n=5)"
   ]
  },
  {
   "cell_type": "markdown",
   "id": "760ed065-8a39-4bfc-9fa6-4ca820cf2f5a",
   "metadata": {},
   "source": [
    "Los embeddings transforman las frases en vectores de alta dimensión que representan su significado semántico. Las palabras clave son cruciales, pero su influencia depende del contexto, y el modelo que se está usando.  \n",
    "\n",
    "En los resultados se observa que el documento \"JavaScript maneja interacciones web dinámicas\" apareció como resultado, pero los otros dos documentos creados no.\n",
    "\n",
    "Por otro lado, consideró otros resultados asociados a \"Lenguajes\" en su significado más amplio.   \n",
    "Si la consulta contiene términos ambiguos o demasiado generales, puede que no coincida bien con las frases en la base de datos y el modelo puede no considerarlas como suficientemente similares debido a las diferencias contextuales.\n"
   ]
  },
  {
   "cell_type": "markdown",
   "id": "f67251c6-d042-4d48-b5de-26b8bf5c39a4",
   "metadata": {},
   "source": [
    "### Ejercicio 5: Eliminaciones Selectivas"
   ]
  },
  {
   "cell_type": "markdown",
   "id": "5149544d-edbd-420b-9e3c-137eaae94763",
   "metadata": {},
   "source": [
    "----------------------------------------------------------------------------\n",
    "Crea dos documentos con tópicos opuestos (ejemplo: uno sobre \"Ecología\" y otro sobre\n",
    "\"Minería de datos\").  \n",
    "Elimina el documento sobre ecología usando su ID.  \n",
    "Verifica que solo quede un documento.  \n",
    "\n",
    "¿Cómo usar collection.count() para confirmar?  \n",
    "\n",
    "----------------------------------------------------------------------------"
   ]
  },
  {
   "cell_type": "code",
   "execution_count": 163,
   "id": "c5200ece-9348-4e0c-96e7-595bacfb8539",
   "metadata": {},
   "outputs": [
    {
     "name": "stdout",
     "output_type": "stream",
     "text": [
      "✅ Documento añadido con ID: a54a491f-95ec-4e84-9883-e278ad2fdeee\n"
     ]
    }
   ],
   "source": [
    "doc_eco_id = create_example(\"La ecología es el estudio de las interacciones entre los organismos y su entorno.\")"
   ]
  },
  {
   "cell_type": "code",
   "execution_count": 164,
   "id": "25c25f17-b3f0-412c-a005-45ff9d15ddc7",
   "metadata": {},
   "outputs": [
    {
     "name": "stdout",
     "output_type": "stream",
     "text": [
      "✅ Documento añadido con ID: e6d5aaba-80e5-41e8-9916-056afb2641ad\n"
     ]
    }
   ],
   "source": [
    "doc_min_id = create_example(\"La minería de datos es el proceso de descubrir patrones en grandes conjuntos de datos.\")"
   ]
  },
  {
   "cell_type": "code",
   "execution_count": 165,
   "id": "e49ef3d0-7a4e-4fc6-b3a4-b6b497562e0e",
   "metadata": {},
   "outputs": [
    {
     "name": "stdout",
     "output_type": "stream",
     "text": [
      "Cantidad de documentos: 40\n"
     ]
    }
   ],
   "source": [
    "count_before_delete = collection.count()\n",
    "print(f'Cantidad de documentos: {count_before_delete}')"
   ]
  },
  {
   "cell_type": "code",
   "execution_count": 166,
   "id": "c08a763a-4c05-450a-b435-a18b513b8d46",
   "metadata": {},
   "outputs": [
    {
     "name": "stdout",
     "output_type": "stream",
     "text": [
      "🗑️ Documento con ID 'a54a491f-95ec-4e84-9883-e278ad2fdeee' eliminado.\n"
     ]
    }
   ],
   "source": [
    "delete_example(doc_eco_id)"
   ]
  },
  {
   "cell_type": "code",
   "execution_count": 167,
   "id": "5a98278c-ebe1-4811-b33c-07f59ebdd7ea",
   "metadata": {},
   "outputs": [
    {
     "name": "stdout",
     "output_type": "stream",
     "text": [
      "Cantidad de documentos: 39\n"
     ]
    }
   ],
   "source": [
    "count_after_delete = collection.count()\n",
    "print(f'Cantidad de documentos: {count_after_delete}')"
   ]
  },
  {
   "cell_type": "markdown",
   "id": "8dca74d6-8418-48f7-8d6d-6e65533dace4",
   "metadata": {},
   "source": [
    "El método **collection.count()** en Chroma DB sirve para obtener el número total de documentos que actualmente están almacenados dentro de una colección específica.\n",
    "\n",
    "En esencia, es una manera rápida y sencilla de saber cuántos elementos hay en la colección sin tener que realizar una búsqueda o iterar sobre todos los documentos.  \n",
    "\n",
    "Puede usarse entonces para el control de flujo de procesos o como en este caso para verificar el resultado de operaciones como la eliminación de documentos.\n"
   ]
  },
  {
   "cell_type": "markdown",
   "id": "7a1ff61e-00ed-4a29-b3eb-89e6c67cbdd6",
   "metadata": {},
   "source": [
    "### Ejercicio 6: Actualización en Cadena"
   ]
  },
  {
   "cell_type": "markdown",
   "id": "26e7073c-cb3f-4ba0-a162-0bc4ce567681",
   "metadata": {},
   "source": [
    "----------------------------------------------------------------------------\n",
    "Crea un documento con el texto \"IA y ética son temas actuales\".  \n",
    "Actualízalo dos veces:  \n",
    "Primera actualización: \"Ética en IA aborda dilemas morales\"  \n",
    "Segunda actualización: \"El uso de IA debe estar regulado por principios éticos\".  \n",
    "\n",
    "¿Cómo sigue evolucionando el contenido del documento con cada update?  \n",
    "\n",
    "----------------------------------------------------------------------------"
   ]
  },
  {
   "cell_type": "code",
   "execution_count": 168,
   "id": "6c27d76f-8f79-4ef5-bd59-50f8ac8b3699",
   "metadata": {},
   "outputs": [
    {
     "name": "stdout",
     "output_type": "stream",
     "text": [
      "✅ Documento añadido con ID: 4b564f28-07d8-4180-8e4b-d49e52ff456c\n"
     ]
    }
   ],
   "source": [
    "doc_id = create_example(\"IA y ética son temas actuales\")"
   ]
  },
  {
   "cell_type": "markdown",
   "id": "9fa4e250-0887-437a-9b23-1389e8321cc4",
   "metadata": {},
   "source": [
    "Dado que la función **update_example** utiliza el enfoque de eliminar y crear un nuevo documento en lugar de actualizar el existente, utilizo entonces para este caso el método **collection.update()** para mantener así el mismo id de documento."
   ]
  },
  {
   "cell_type": "code",
   "execution_count": 169,
   "id": "2445794f-a0e0-4064-914b-89021c08cc2c",
   "metadata": {},
   "outputs": [],
   "source": [
    "text_1 = \"Ética en IA aborda dilemas morales\"\n",
    "collection.update(\n",
    "    ids=[doc_id],\n",
    "    documents=[text_1],\n",
    "    embeddings=[get_embeddings(text_1)]\n",
    ")"
   ]
  },
  {
   "cell_type": "code",
   "execution_count": 170,
   "id": "978d086c-204c-495c-91a0-71c69ffc1e96",
   "metadata": {},
   "outputs": [],
   "source": [
    "text_2 = \"El uso de IA debe estar regulado por principios éticos\"\n",
    "collection.update(\n",
    "    ids=[doc_id],\n",
    "    documents=[text_2],\n",
    "    embeddings=[get_embeddings(text_2)]\n",
    ")"
   ]
  },
  {
   "cell_type": "markdown",
   "id": "036fed14-5483-4ee9-9788-a62db7014a59",
   "metadata": {},
   "source": [
    "Con cada llamada al método **update()**, el contenido del documento asociado al ID \"doc_id\" se reemplaza completamente con el nuevo texto proporcionado. \n",
    "\n",
    "Cada actualización representa una nueva versión del documento, donde el contenido evoluciona para reflejar una idea o perspectiva ligeramente diferente dentro del tema general de \"IA y Ética\". \n",
    "\n",
    "Al llamar al método update() y proporcionar un nuevo contenido estoy volviendo a calcular y actualizando también su **embedding**.\n",
    "El embedding anterior asociado a ese id es reemplazado por el nuevo embedding, reflejando la semántica del texto actualizado.\n",
    "\n",
    "Los embeddings son representaciones numéricas (vectores) del significado del texto.   \n",
    "Al cambiar el texto, el significado cambia y, por lo tanto, su representación vectorial también debería cambiar.  \n",
    "Esto significa que la posición del documento en el espacio vectorial se mueve, reflejando su nueva semántica en relación con los otros documentos de la colección.\n",
    "\n",
    "Dado que el embedding del documento actualizado ha cambiado, su relevancia para futuras búsquedas podría variar también. \n"
   ]
  },
  {
   "cell_type": "markdown",
   "id": "6c3ab6a8-87b1-44a3-8481-2019fe518ade",
   "metadata": {},
   "source": [
    "### Ejercicio 7: Consultas Ambiguas"
   ]
  },
  {
   "cell_type": "markdown",
   "id": "750c11f1-7029-4611-9d12-16cc1c958c56",
   "metadata": {},
   "source": [
    "----------------------------------------------------------------------------\n",
    "Crea dos documentos similares pero no idénticos:  \n",
    "\"Blockchain garantiza transacciones seguras\"  \n",
    "\"Criptomonedas usan tecnología blockchain\".  \n",
    "Realiza una consulta por \"Seguridad en finanzas digitales\".  \n",
    "\n",
    "¿Ambos documentos aparecen? Explica la similitud semántica.  \n",
    "\n",
    "----------------------------------------------------------------------------"
   ]
  },
  {
   "cell_type": "code",
   "execution_count": 171,
   "id": "22719c90-e7aa-4639-b098-61cd337dcb75",
   "metadata": {},
   "outputs": [
    {
     "name": "stdout",
     "output_type": "stream",
     "text": [
      "✅ Documento añadido con ID: f6133ecd-e262-4a08-bf88-b305546acd54\n"
     ]
    }
   ],
   "source": [
    "doc_id_1 = create_example(\"Blockchain garantiza transacciones seguras\")"
   ]
  },
  {
   "cell_type": "code",
   "execution_count": 172,
   "id": "76bfbb4f-87e8-433e-9158-454f3646d6ab",
   "metadata": {},
   "outputs": [
    {
     "name": "stdout",
     "output_type": "stream",
     "text": [
      "✅ Documento añadido con ID: f64d6cfa-e109-4c4d-b884-ddf26e4317c6\n"
     ]
    }
   ],
   "source": [
    "doc_id_2 = create_example(\"Criptomonedas usan tecnología blockchain\")"
   ]
  },
  {
   "cell_type": "code",
   "execution_count": 173,
   "id": "1eb5bc3a-921e-4235-82f1-311a6f4ec22e",
   "metadata": {},
   "outputs": [
    {
     "name": "stdout",
     "output_type": "stream",
     "text": [
      "------------------------------------------------------------\n",
      "\n",
      "ID: f6133ecd-e262-4a08-bf88-b305546acd54\n",
      "Contenido: Blockchain garantiza transacciones seguras\n",
      "Metadata: {'source': 'nuevo_documento.txt'}\n",
      "------------------------------------------------------------\n",
      "\n",
      "ID: 7da5439f-d7e2-455d-87ee-c62ef208b7eb\n",
      "Contenido: en crecimiento en Argentina, con investigaciones y desarrollos en áreas como la agricultura, la salud y la industria.\n",
      "\n",
      "La industria del software y los servicios informáticos tienen un gran potencial en Argentina, con un talento humano calificado y un ecosistema emprendedor en expansión.\n",
      "\n",
      "El diseño de indumentaria y la moda argentina están ganando reconocimiento a nivel internacional, con diseñadores que fusionan tradición y vanguardia.\n",
      "\n",
      "La producción audiovisual argentina, incluyendo cine y tele\n",
      "Metadata: {'source': 'doc3.txt'}\n",
      "------------------------------------------------------------\n",
      "\n",
      "ID: 3c258089-09c5-4f00-be4e-42db4393e908\n",
      "Contenido: ósiles.\n",
      "\n",
      "La exploración espacial es un campo en crecimiento en Argentina, con el desarrollo de satélites y la participación en proyectos internacionales. La investigación y el desarrollo en este ámbito son fundamentales para el avance tecnológico del país.\n",
      "\n",
      "La educación es un pilar fundamental para el desarrollo de Argentina. Se están realizando esfuerzos para mejorar la calidad y la equidad del sistema educativo en todos los niveles.\n",
      "\n",
      "La salud pública es una prioridad en Argentina, con un siste\n",
      "Metadata: {'source': 'doc2.txt'}\n",
      "------------------------------------------------------------\n",
      "\n",
      "ID: 2c33ab02-ef64-4f65-b1ce-356ce20a6d04\n",
      "Contenido: ma que busca garantizar el acceso a la atención médica a todos los ciudadanos. Se están implementando políticas para fortalecer la prevención y el tratamiento de enfermedades.\n",
      "\n",
      "La cultura del vino es muy importante en Argentina, especialmente en la región de Mendoza, donde se producen vinos de alta calidad reconocidos a nivel mundial, siendo el Malbec la cepa insignia.\n",
      "\n",
      "El turismo es una actividad económica clave en Argentina, atrayendo a visitantes interesados en la diversidad de sus paisajes, \n",
      "Metadata: {'source': 'doc2.txt'}\n",
      "------------------------------------------------------------\n",
      "\n",
      "ID: 8471308a-4d4a-4f90-b0c3-5ff73f1edd64\n",
      "Contenido: su cultura y su historia. Desde las Cataratas del Iguazú hasta las playas de Mar del Plata, el país ofrece una amplia gama de destinos.\n",
      "\n",
      "La innovación tecnológica es un motor de crecimiento en Argentina, con emprendedores y empresas desarrollando soluciones en áreas como el software, la biotecnología y la inteligencia artificial.\n",
      "\n",
      "La colaboración internacional es fundamental para abordar los desafíos globales. Argentina participa activamente en foros y organizaciones internacionales para promove\n",
      "Metadata: {'source': 'doc2.txt'}\n"
     ]
    }
   ],
   "source": [
    "x1 = read_example(\"Seguridad en finanzas digitales\", n=5)"
   ]
  },
  {
   "cell_type": "markdown",
   "id": "1f18ff5a-e1db-4752-a5ca-38fb4fb0e617",
   "metadata": {},
   "source": [
    "Sólo aparece el primer documento y no el segundo.  \n",
    "\n",
    "En términos de similitud semántica según el modelo de embedding, el vector de \"Seguridad en finanzas digitales\" está más cerca en el espacio vectorial al vector de \"Blockchain garantiza transacciones seguras\" que al vector de \"Criptomonedas usan tecnología blockchain\".  \n",
    "\n",
    "La frase menciona explícitamente la palabra \"seguras\", que es un componente clave del concepto de \"seguridad\" en la consulta. Aunque la consulta se enfoca en un contexto más amplio (\"finanzas digitales\"), la mención directa de la seguridad en el primer documento podría ser un factor de mayor peso para el modelo de embedding.  \n",
    "El verbo \"garantiza\" implica una fuerte promesa o seguridad inherente proporcionada por la tecnología blockchain en el contexto de las transacciones. Esto podría resonar más con la idea de \"seguridad\" en la consulta.  \n",
    "\n",
    "La segunda frase, en cambio, se centra en la relación de uso (\"usan\") entre las criptomonedas y la tecnología blockchain. Si bien la seguridad es una característica importante de blockchain que beneficia a las criptomonedas, la frase en sí no menciona la seguridad directamente."
   ]
  },
  {
   "cell_type": "markdown",
   "id": "53629a74-1eab-40a1-a39a-9e5f6122c25b",
   "metadata": {},
   "source": [
    "### Ejercicio 8: Reiniciar Base de Datos"
   ]
  },
  {
   "cell_type": "markdown",
   "id": "6eb95e17-6c75-46a9-88c7-04ba10cd04a3",
   "metadata": {},
   "source": [
    "----------------------------------------------------------------------------\n",
    "Elimina todos los documentos usando delete() con el parámetro correcto.  \n",
    "Vuelve a cargar la base desde cero con crear_base_datos().  \n",
    "\n",
    "¿Cuántos documentos hay ahora? (Usa collection.count()).  \n",
    "\n",
    "----------------------------------------------------------------------------"
   ]
  },
  {
   "cell_type": "code",
   "execution_count": 174,
   "id": "be98b56a-c4b5-4a7d-a040-4267d8bef35b",
   "metadata": {},
   "outputs": [
    {
     "name": "stdout",
     "output_type": "stream",
     "text": [
      "Cantidad de documentos: 42\n"
     ]
    }
   ],
   "source": [
    "count_before_delete = collection.count()\n",
    "print(f'Cantidad de documentos: {count_before_delete}')"
   ]
  },
  {
   "cell_type": "code",
   "execution_count": 175,
   "id": "16529246-efb0-4680-9531-2680671c3956",
   "metadata": {},
   "outputs": [
    {
     "name": "stdout",
     "output_type": "stream",
     "text": [
      "Se han borrado todos los documentos de la colección.\n"
     ]
    }
   ],
   "source": [
    "# Borra todos los documentos de la colección\n",
    "collection.delete(where={})\n",
    "\n",
    "print(f\"Se han borrado todos los documentos de la colección.\")\n"
   ]
  },
  {
   "cell_type": "code",
   "execution_count": 176,
   "id": "a9df06ed-8294-455b-a27a-ee6bbf982750",
   "metadata": {},
   "outputs": [
    {
     "name": "stdout",
     "output_type": "stream",
     "text": [
      "Cantidad de documentos: 0\n"
     ]
    }
   ],
   "source": [
    "count_after_delete = collection.count()\n",
    "print(f'Cantidad de documentos: {count_after_delete}')"
   ]
  },
  {
   "cell_type": "code",
   "execution_count": 177,
   "id": "795d74f2-7d50-490c-8235-04da7abad66d",
   "metadata": {},
   "outputs": [
    {
     "name": "stdout",
     "output_type": "stream",
     "text": [
      "✅ Base de datos creada con éxito.\n"
     ]
    }
   ],
   "source": [
    "# Recrear la DB\n",
    "crear_base_datos()"
   ]
  },
  {
   "cell_type": "code",
   "execution_count": 178,
   "id": "9eb59906-a145-4fa2-ab9d-81cee79af5d8",
   "metadata": {},
   "outputs": [
    {
     "name": "stdout",
     "output_type": "stream",
     "text": [
      "Cantidad de documentos: 33\n"
     ]
    }
   ],
   "source": [
    "count_after_create = collection.count()\n",
    "print(f'Cantidad de documentos: {count_after_create}')"
   ]
  },
  {
   "cell_type": "markdown",
   "id": "147757fe-b943-4378-a2f3-77e9515852c9",
   "metadata": {},
   "source": [
    "### Ejercicio 9: Errores de Inserción"
   ]
  },
  {
   "cell_type": "markdown",
   "id": "adc16d52-80f7-434c-868e-4fea2d49b96c",
   "metadata": {},
   "source": [
    "----------------------------------------------------------------------------\n",
    "Intenta crear un documento sin texto (ejemplo: cadena vacía).  \n",
    "Corrige el error usando la función get_embeddings().  \n",
    "\n",
    "¿Qué lección aprendemos sobre los requisitos de ChromaDB?  \n",
    "\n",
    "----------------------------------------------------------------------------"
   ]
  },
  {
   "cell_type": "code",
   "execution_count": 179,
   "id": "c3444bbc-2e21-4791-bba0-24104df23de6",
   "metadata": {},
   "outputs": [
    {
     "name": "stdout",
     "output_type": "stream",
     "text": [
      "✅ Documento añadido con ID: 411cf6ac-e0f6-4349-a8d2-a637652f2c97\n"
     ]
    }
   ],
   "source": [
    "doc_id = create_example(\"\")"
   ]
  },
  {
   "cell_type": "code",
   "execution_count": 180,
   "id": "a95a8072-4850-4242-bc42-f75ce6f52f3f",
   "metadata": {},
   "outputs": [
    {
     "name": "stdout",
     "output_type": "stream",
     "text": [
      "384\n"
     ]
    }
   ],
   "source": [
    "print (len(get_embeddings(\"\")))"
   ]
  },
  {
   "cell_type": "markdown",
   "id": "75f22919-5196-4c46-95bb-8c2619f1353c",
   "metadata": {},
   "source": [
    "La creación de un documento vacío no da error, porque de todas formas se genera una representación vectorial.\n",
    "\n",
    "Sin embargo, Chroma DB está diseñado principalmente para trabajar con texto que tenga significado semántico para poder generar embeddings útiles para la búsqueda y comparación. Intentar almacenar documentos sin contenido textual o con cadenas vacías puede llevar a un comportamiento inesperado, ya que no hay información que el modelo de embedding pueda procesar de manera efectiva.\n"
   ]
  },
  {
   "cell_type": "markdown",
   "id": "bfe278ab-4148-4d35-ae77-10362cc60456",
   "metadata": {},
   "source": [
    "Lo que sí arroja error, como se vio en el punto 3, es cuando el embedding es vacío.  \n",
    "\n",
    "ChromaDB no admite la inserción de un embedding no vaĺido (**\"ValueError: Expected each embedding in the embeddings to be a list, got ['']\"**).  \n",
    "\n",
    "Para que Chroma DB pueda realizar búsquedas semánticas eficientemente, los documentos deben tener embeddings que representen su significado. Si no se puede generar un embedding válido, el documento no podría ser indexado y consultado de manera apropiada.\n"
   ]
  },
  {
   "cell_type": "markdown",
   "id": "69f2f1ec-9cf9-4a75-a565-ea41cc6df190",
   "metadata": {},
   "source": [
    "### Ejercicio opcional: Retrieval-Augmented Generation"
   ]
  },
  {
   "cell_type": "markdown",
   "id": "b87a8484-3c45-4629-ba33-9bb3e26e3b68",
   "metadata": {},
   "source": [
    "----------------------------------------------------------------------------\n",
    "Intente levantar un llm en un endpoint local con ollama o LMStudio.  \n",
    "Utilice el llm para generar respuestas aumentadas con contexto similar a una consulta dada.\n",
    "\n",
    "----------------------------------------------------------------------------"
   ]
  },
  {
   "cell_type": "code",
   "execution_count": 181,
   "id": "e8e2a0db-26a7-4c59-bb07-031975ecf7f0",
   "metadata": {},
   "outputs": [],
   "source": [
    "import requests\n",
    "import json"
   ]
  },
  {
   "cell_type": "markdown",
   "id": "e1f7b949-4d34-49cc-9b24-9cfd5dc77027",
   "metadata": {},
   "source": [
    "Utilizo **Ollama** con el modelo **llama2**:"
   ]
  },
  {
   "cell_type": "code",
   "execution_count": 182,
   "id": "533df733-2135-45a6-aca6-e6f648e674a2",
   "metadata": {},
   "outputs": [],
   "source": [
    "# Ollama instalación local\n",
    "# curl -fsSL https://ollama.com/install.sh | sh\n",
    "\n",
    "url = \"http://localhost:11434/v1/chat/completions\"  # ollama serve\n",
    "\n",
    "model_name = \"llama2\" # ollama pull llama2\n"
   ]
  },
  {
   "cell_type": "markdown",
   "id": "7e617fc9-eff3-4e35-b93b-8c397dd49fab",
   "metadata": {},
   "source": [
    "Función para consultar al modelo incluyendo contexto o no, dependiendo de los parámetros ingresados:"
   ]
  },
  {
   "cell_type": "code",
   "execution_count": 183,
   "id": "9cf82ee4-e301-4a2e-af96-6050b7a617f0",
   "metadata": {},
   "outputs": [],
   "source": [
    "def query_ollama(endpoint, user_input, model_id, db=0):\n",
    "\n",
    "    \"\"\" Consulta ollama, si db > 0, \n",
    "        añade el contexto de los documentos \n",
    "        encontrados en la db\"\"\"\n",
    "\n",
    "    # Headers para la solicitud\n",
    "    headers = {\n",
    "        \"Content-Type\": \"application/json\" \n",
    "    }\n",
    "\n",
    "    print(\"\\n[Pregunta del usuario]:\")\n",
    "    print(user_input)\n",
    "\n",
    "    if db > 0:\n",
    "        \n",
    "        # Añadir contexto    \n",
    "        query_emb = get_embeddings(user_input)\n",
    "        \n",
    "        results = collection.query(\n",
    "            query_embeddings=[query_emb],\n",
    "            n_results=db\n",
    "        )\n",
    "\n",
    "        if results[\"documents\"]:\n",
    "            context = \"\\n\".join(results[\"documents\"][0])\n",
    "\n",
    "            # Juntar el contexto obtenido y la pregunta\n",
    "            user_input = f\"Basándote en la siguiente información:\\n{context}.\\nResponde a la siguiente pregunta: {user_input}\" \n",
    "            \n",
    "            print(\"\\n[Prompt enviado a Ollama con contexto de ChromaDB]:\")\n",
    "            print(user_input)\n",
    "\n",
    "    # Definir el cuerpo de la solicitud\n",
    "    payload = {\n",
    "        \"model\": model_id,  \n",
    "        \"messages\": [\n",
    "            {\"role\": \"system\", \"content\": \"Responder en idioma español.\"},\n",
    "            {\"role\": \"user\", \"content\": user_input}  \n",
    "        ]\n",
    "    }\n",
    "    \n",
    "    # Enviar la solicitud POST a la API de Ollama\n",
    "    response = requests.post(endpoint, headers=headers, data=json.dumps(payload))\n",
    "    \n",
    "    # Verificar si la solicitud fue exitosa\n",
    "    if response.status_code == 200:\n",
    "        # Extraer el contenido de la respuesta\n",
    "        response_data = response.json()\n",
    "        # Imprimir la respuesta del modelo\n",
    "        print(\"\\n[Respuesta del modelo]:\", response_data['choices'][0]['message']['content'])\n",
    "    else:\n",
    "        # Mostrar un mensaje de error si la solicitud falla\n",
    "        print(f\"Error en la solicitud: {response.status_code}, {response.text}\")\n"
   ]
  },
  {
   "cell_type": "markdown",
   "id": "fdc9067e-a818-4467-a036-cd6e44359ac2",
   "metadata": {},
   "source": [
    "Se realiza la misma consulta sin contexto y con el contexto añadido a partir de la consulta a la DB."
   ]
  },
  {
   "cell_type": "code",
   "execution_count": 184,
   "id": "5b8e8a7f-dbae-4c23-9d77-97b97bb8f551",
   "metadata": {},
   "outputs": [
    {
     "name": "stdout",
     "output_type": "stream",
     "text": [
      "✅ Documento añadido con ID: 9172fd4b-fc95-43f2-8ad3-a56d1c4da4e9\n"
     ]
    }
   ],
   "source": [
    "doc_id = create_example(\"El color del cielo en Saturno es violeta\")"
   ]
  },
  {
   "cell_type": "code",
   "execution_count": 185,
   "id": "583286aa-f21b-4918-9551-8d3a4d8ac890",
   "metadata": {},
   "outputs": [],
   "source": [
    "# Prompt del usuario para interactuar con el modelo\n",
    "prompt = \"¿De qué color es el cielo en Saturno?\""
   ]
  },
  {
   "cell_type": "code",
   "execution_count": 186,
   "id": "99e07842-0717-4593-b72e-76ecde0daf86",
   "metadata": {},
   "outputs": [
    {
     "name": "stdout",
     "output_type": "stream",
     "text": [
      "\n",
      "[Pregunta del usuario]:\n",
      "¿De qué color es el cielo en Saturno?\n",
      "\n",
      "[Respuesta del modelo]: \n",
      "En Saturno, el cielo es de un color naranja-rojobrillante debido a la presencia de partículas de polvo en la atmósfera del planeta. La luz solar que incide sobre Saturno es dispersada por estas partículas, dando lugar a un efecto conocido como \"efecto Tyndall\". El color naranja-rojo es un resultado de la interacción entre la luz y las partículas de polvo en la atmósfera de Saturno, y no es el mismo que el cielo azul que se puede observar en Tierra debido a la ausencia de polvo en la atmósfera.\n"
     ]
    }
   ],
   "source": [
    "# Consulta a Ollama sin contexto\n",
    "query_ollama(url, prompt, model_name, 0)"
   ]
  },
  {
   "cell_type": "code",
   "execution_count": 187,
   "id": "0b917f4e-7b71-40eb-9321-5f4cbb6273a3",
   "metadata": {},
   "outputs": [
    {
     "name": "stdout",
     "output_type": "stream",
     "text": [
      "\n",
      "[Pregunta del usuario]:\n",
      "¿De qué color es el cielo en Saturno?\n",
      "\n",
      "[Prompt enviado a Ollama con contexto de ChromaDB]:\n",
      "Basándote en la siguiente información:\n",
      "El color del cielo en Saturno es violeta.\n",
      "Responde a la siguiente pregunta: ¿De qué color es el cielo en Saturno?\n",
      "\n",
      "[Respuesta del modelo]: \n",
      " ¡Claro! Según la información proporcionada, el color del cielo en Saturno es violeta. Entonces, la respuesta a la pregunta es:\n",
      "\n",
      "El colors del cielo en Saturno es violeta.\n"
     ]
    }
   ],
   "source": [
    "# Consulta con contexto (1 documento)\n",
    "query_ollama(url, prompt, model_name, 1)"
   ]
  },
  {
   "cell_type": "code",
   "execution_count": 188,
   "id": "9c26fa89-9d5c-47bb-a1a9-285b0525018b",
   "metadata": {},
   "outputs": [
    {
     "name": "stdout",
     "output_type": "stream",
     "text": [
      "\n",
      "[Pregunta del usuario]:\n",
      "¿De qué color es el cielo en Saturno?\n",
      "\n",
      "[Prompt enviado a Ollama con contexto de ChromaDB]:\n",
      "Basándote en la siguiente información:\n",
      "El color del cielo en Saturno es violeta\n",
      "ciosa continuaba, con el tráfico constante y el murmullo de las conversaciones. Los turistas se maravillaban ante la grandiosidad del Teatro Colón, imaginando las óperas y ballets que habían resonado en su interior.\n",
      "\n",
      "Más al sur, en el barrio de La Boca, los colores vibrantes de las casas de Caminito contaban historias de inmigrantes y artistas. El tango resonaba en las calles, invitando a los visitantes a sentir la pasión de esta danza emblemática. Los artesanos ofrecían sus creaciones, mientras\n",
      "territorio y sus influencias culturales.\n",
      "\n",
      "La ciencia y la tecnología también tienen un lugar importante en Argentina. Investigadores y científicos trabajan en diversas áreas, desde la biotecnología hasta la astronomía, contribuyendo al avance del conocimiento.\n",
      "\n",
      "La música folklórica argentina, con sus ritmos y melodías características, cuenta historias de la tierra y sus habitantes. Instrumentos como la guitarra, el charango y el bombo legüero son protagonistas de estas expresiones culturales.\n",
      "\n",
      "E.\n",
      "Responde a la siguiente pregunta: ¿De qué color es el cielo en Saturno?\n",
      "\n",
      "[Respuesta del modelo]: El color del cielo en Saturno es violeta, según la información proporcionada en la narración.\n"
     ]
    }
   ],
   "source": [
    "# Consulta con contexto (3 documentos)\n",
    "query_ollama(url, prompt, model_name, 3)"
   ]
  },
  {
   "cell_type": "markdown",
   "id": "c81b207c-1f26-4913-a036-3074963ab194",
   "metadata": {},
   "source": [
    "✅ En conclusión, se observa que el modelo adapta su respuesta en función del contexto obtenido de los documentos en la base de datos.\n"
   ]
  },
  {
   "cell_type": "markdown",
   "id": "38b2068e-6175-4270-8612-d1d823a97564",
   "metadata": {},
   "source": [
    "## Referencias"
   ]
  },
  {
   "cell_type": "markdown",
   "id": "efa85260-fbd1-4e03-8ffd-46633ee718f6",
   "metadata": {},
   "source": [
    "* https://github.com/FIUBA-Posgrado-Inteligencia-Artificial/BDIA/tree/main/clase_6/VectorDatabases\n",
    "\n",
    "* https://ollama.com/\n"
   ]
  }
 ],
 "metadata": {
  "kernelspec": {
   "display_name": "Python 3 (ipykernel)",
   "language": "python",
   "name": "python3"
  },
  "language_info": {
   "codemirror_mode": {
    "name": "ipython",
    "version": 3
   },
   "file_extension": ".py",
   "mimetype": "text/x-python",
   "name": "python",
   "nbconvert_exporter": "python",
   "pygments_lexer": "ipython3",
   "version": "3.11.11"
  }
 },
 "nbformat": 4,
 "nbformat_minor": 5
}
